{
 "cells": [
  {
   "cell_type": "code",
   "execution_count": 7,
   "metadata": {},
   "outputs": [
    {
     "data": {
      "text/plain": [
       "'Attempts to pip install Cirq 0.4.0.'"
      ]
     },
     "execution_count": 7,
     "metadata": {},
     "output_type": "execute_result"
    }
   ],
   "source": [
    "\"\"\"Attempts to pip install Cirq 0.4.0.\"\"\"\n",
    "#!pip install --upgrade pip\n",
    "#!pip install cirq==0.4.0"
   ]
  },
  {
   "cell_type": "code",
   "execution_count": 8,
   "metadata": {},
   "outputs": [
    {
     "name": "stdout",
     "output_type": "stream",
     "text": [
      "Circuit:\n",
      "0: ───X^0.11───Y^(5/16)───@───H───M───────@───\n",
      "                          │       │       │\n",
      "1: ───H────────@──────────X───────M───@───┼───\n",
      "               │                      │   │\n",
      "2: ────────────X──────────────────────X───@───\n",
      "\n",
      "Bloch Sphere of Message After Random X and Y Gates:\n",
      "x:  0.7815 y:  -0.3381 z:  0.5243\n",
      "\n",
      "Bloch Sphere of Qubit 2 at Final State:\n",
      "x:  0.7815 y:  -0.3381 z:  0.5243\n"
     ]
    }
   ],
   "source": [
    "\n",
    "import random\n",
    "import numpy as np\n",
    "import cirq\n",
    "\n",
    "\n",
    "def make_quantum_teleportation_circuit(ranX, ranY):\n",
    "    circuit = cirq.Circuit()\n",
    "    msg, alice, bob = cirq.LineQubit.range(3)\n",
    "\n",
    "    # Creates Bell state to be shared between Alice and Bob.\n",
    "    circuit.append([cirq.H(alice), cirq.CNOT(alice, bob)])\n",
    "    # Creates a random state for the Message.\n",
    "    circuit.append([cirq.X(msg)**ranX, cirq.Y(msg)**ranY])\n",
    "    # Bell measurement of the Message and Alice's entangled qubit.\n",
    "    circuit.append([cirq.CNOT(msg, alice), cirq.H(msg)])\n",
    "    circuit.append(cirq.measure(msg, alice))\n",
    "    # Uses the two classical bits from the Bell measurement to recover the\n",
    "    # original quantum Message on Bob's entangled qubit.\n",
    "    circuit.append([cirq.CNOT(alice, bob), cirq.CZ(msg, bob)])\n",
    "\n",
    "    return circuit\n",
    "\n",
    "\n",
    "def main(seed=None):\n",
    "    \"\"\"Run a simple simulation of quantum teleportation.\n",
    "    Args:\n",
    "        seed: The seed to use for the simulation.\n",
    "    \"\"\"\n",
    "    random.seed(seed)\n",
    "\n",
    "    ranX = random.random()\n",
    "    ranY = random.random()\n",
    "    circuit = make_quantum_teleportation_circuit(ranX, ranY)\n",
    "\n",
    "    print(\"Circuit:\")\n",
    "    print(circuit)\n",
    "\n",
    "    sim = cirq.Simulator(seed=seed)\n",
    "\n",
    "    # Run a simple simulation that applies the random X and Y gates that\n",
    "    # create our message.\n",
    "    q0 = cirq.LineQubit(0)\n",
    "    message = sim.simulate(cirq.Circuit([cirq.X(q0)**ranX, cirq.Y(q0)**ranY]))\n",
    "\n",
    "    print(\"\\nBloch Sphere of Message After Random X and Y Gates:\")\n",
    "    # Prints the Bloch Sphere of the Message after the X and Y gates.\n",
    "    expected = cirq.bloch_vector_from_state_vector(message.final_state, 0)\n",
    "    print(\"x: \", np.around(expected[0], 4), \"y: \", np.around(expected[1], 4),\n",
    "          \"z: \", np.around(expected[2], 4))\n",
    "\n",
    "    # Records the final state of the simulation.\n",
    "    final_results = sim.simulate(circuit)\n",
    "\n",
    "    print(\"\\nBloch Sphere of Qubit 2 at Final State:\")\n",
    "    # Prints the Bloch Sphere of Bob's entangled qubit at the final state.\n",
    "    teleported = cirq.bloch_vector_from_state_vector(final_results.final_state,\n",
    "                                                     2)\n",
    "    print(\"x: \", np.around(teleported[0], 4), \"y: \",\n",
    "          np.around(teleported[1], 4), \"z: \", np.around(teleported[2], 4))\n",
    "\n",
    "    return expected, teleported\n",
    "\n",
    "\n",
    "if __name__ == '__main__':\n",
    "    main()"
   ]
  }
 ],
 "metadata": {
  "kernelspec": {
   "display_name": "Python 3",
   "language": "python",
   "name": "python3"
  },
  "language_info": {
   "codemirror_mode": {
    "name": "ipython",
    "version": 3
   },
   "file_extension": ".py",
   "mimetype": "text/x-python",
   "name": "python",
   "nbconvert_exporter": "python",
   "pygments_lexer": "ipython3",
   "version": "3.7.3"
  }
 },
 "nbformat": 4,
 "nbformat_minor": 2
}
