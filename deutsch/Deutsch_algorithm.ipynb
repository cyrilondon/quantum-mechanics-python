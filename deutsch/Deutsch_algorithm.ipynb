{
 "cells": [
  {
   "cell_type": "markdown",
   "metadata": {},
   "source": [
    "# Deutsch Algorithm with Google Cirq API\n"
   ]
  },
  {
   "cell_type": "markdown",
   "metadata": {},
   "source": [
    "Installs Cirq 0.8.0 via pip"
   ]
  },
  {
   "cell_type": "code",
   "execution_count": null,
   "metadata": {},
   "outputs": [],
   "source": [
    "!pip install --upgrade pip\n",
    "!pip install cirq==0.8.0"
   ]
  },
  {
   "cell_type": "markdown",
   "metadata": {},
   "source": [
    "Import required librairies"
   ]
  },
  {
   "cell_type": "code",
   "execution_count": 19,
   "metadata": {},
   "outputs": [],
   "source": [
    "import random\n",
    "\n",
    "import cirq\n",
    "from cirq import H, X, CNOT, measure"
   ]
  },
  {
   "cell_type": "markdown",
   "metadata": {},
   "source": [
    "Defines the three functions:\n",
    "    - main: generates randomly a function (0,1) -> (0,1)\n",
    "            call make_oracle to map the generated function to the corresponding Oracle\n",
    "            makes the quantum circuit with the Oracle generated\n",
    "    - make_oracle: map the function to a corresponding quantum Oracle\n",
    "    - make_circuit: creates the quantum circuit\n",
    "                    initialize 2 qubits\n",
    "                    apply X to qubit 2\n",
    "                    superpose each qubit by Hadamard gate\n",
    "                    apply the Oracle\n",
    "                    apply Hadamard gate to first qubit\n",
    "                    measure"
   ]
  },
  {
   "cell_type": "code",
   "execution_count": 20,
   "metadata": {},
   "outputs": [],
   "source": [
    "def main():\n",
    "    # Choose qubits to use.\n",
    "    q0, q1 = cirq.LineQubit.range(2)\n",
    "\n",
    "    # Pick a secret 2-bit function and create a circuit to query the oracle.\n",
    "    secret_function = [random.randint(0, 1) for _ in range(2)]\n",
    "    oracle = make_oracle(q0, q1, secret_function)\n",
    "    print('Secret function:\\nf(x) = <{}>'.format(\n",
    "        ', '.join(str(e) for e in secret_function)))\n",
    "\n",
    "    # Embed the oracle into a quantum circuit querying it exactly once.\n",
    "    circuit = make_deutsch_circuit(q0, q1, oracle)\n",
    "    print('Circuit:')\n",
    "    print(circuit)\n",
    "\n",
    "    # Simulate the circuit.\n",
    "    simulator = cirq.Simulator()\n",
    "    result = simulator.run(circuit)\n",
    "    print('Result of f(0)⊕f(1):')\n",
    "    print(result)\n",
    "\n",
    "\n",
    "def make_oracle(q0, q1, secret_function):\n",
    "    \"\"\" Gates implementing the secret function f(x).\"\"\"\n",
    "\n",
    "    # coverage: ignore\n",
    "    if secret_function[0]:\n",
    "        yield [CNOT(q0, q1), X(q1)]\n",
    "\n",
    "    if secret_function[1]:\n",
    "        yield CNOT(q0, q1)\n",
    "\n",
    "\n",
    "def make_deutsch_circuit(q0, q1, oracle):\n",
    "    c = cirq.Circuit()\n",
    "\n",
    "    # Initialize qubits.\n",
    "    c.append([X(q1), H(q1), H(q0)])\n",
    "\n",
    "    # Query oracle.\n",
    "    c.append(oracle)\n",
    "\n",
    "    # Measure in X basis.\n",
    "    c.append([H(q0), measure(q0, key='result')])\n",
    "    return c\n"
   ]
  },
  {
   "cell_type": "markdown",
   "metadata": {},
   "source": [
    "Main method which runs the whole program\n",
    "You can re-run the program by just clicking the arrow on the left"
   ]
  },
  {
   "cell_type": "code",
   "execution_count": 24,
   "metadata": {},
   "outputs": [
    {
     "name": "stdout",
     "output_type": "stream",
     "text": [
      "Secret function:\n",
      "f(x) = <1, 1>\n",
      "Circuit:\n",
      "0: ───H───────@───────@───H───M('result')───\n",
      "              │       │\n",
      "1: ───X───H───X───X───X─────────────────────\n",
      "Result of f(0)⊕f(1):\n",
      "result=0\n"
     ]
    }
   ],
   "source": [
    "if __name__ == '__main__':\n",
    "    main()"
   ]
  }
 ],
 "metadata": {
  "kernelspec": {
   "display_name": "Python 3",
   "language": "python",
   "name": "python3"
  },
  "language_info": {
   "codemirror_mode": {
    "name": "ipython",
    "version": 3
   },
   "file_extension": ".py",
   "mimetype": "text/x-python",
   "name": "python",
   "nbconvert_exporter": "python",
   "pygments_lexer": "ipython3",
   "version": "3.7.3"
  }
 },
 "nbformat": 4,
 "nbformat_minor": 2
}
