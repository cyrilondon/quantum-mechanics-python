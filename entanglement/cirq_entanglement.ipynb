{
 "cells": [
  {
   "cell_type": "markdown",
   "metadata": {},
   "source": [
    "# Entanglement algorithm with Google Cirq API"
   ]
  },
  {
   "cell_type": "markdown",
   "metadata": {},
   "source": [
    "install Cirq API"
   ]
  },
  {
   "cell_type": "code",
   "execution_count": null,
   "metadata": {},
   "outputs": [],
   "source": [
    "!pip install --upgrade pip\n",
    "!pip install cirq==0.8.0"
   ]
  },
  {
   "cell_type": "markdown",
   "metadata": {},
   "source": [
    "Required imports"
   ]
  },
  {
   "cell_type": "code",
   "execution_count": 1,
   "metadata": {},
   "outputs": [],
   "source": [
    "import random\n",
    "import numpy as np\n",
    "import cirq"
   ]
  },
  {
   "cell_type": "code",
   "execution_count": 12,
   "metadata": {},
   "outputs": [
    {
     "name": "stdout",
     "output_type": "stream",
     "text": [
      "Circuit:\n",
      "0: ───X───H───@───\n",
      "              │\n",
      "1: ───X───────X───\n",
      "\n",
      "Results:\n",
      "0=10100001111000001100\n",
      "1=01011110000111110011\n"
     ]
    }
   ],
   "source": [
    "# Create a circuit\n",
    "circuit = cirq.Circuit()\n",
    "(q0, q1) = cirq.LineQubit.range(2)\n",
    "\n",
    "# Apply the X-Pauli gate to each qubit\n",
    "circuit.append([cirq.X(q0), cirq.X(q1)])\n",
    "# Apply the Hadamard gate to first qubit and CNOT gate to both qubits\n",
    "circuit.append([cirq.H(q0), cirq.CNOT(q0, q1)])\n",
    "\n",
    "#Print the Circuit\n",
    "print(\"Circuit:\")\n",
    "print(circuit)\n",
    "\n",
    "#Measure both qubits\n",
    "circuit.append([cirq.measure(q0), cirq.measure(q1)])\n",
    "\n",
    "# Simulate the circuit several times.\n",
    "simulator = cirq.Simulator()\n",
    "result = simulator.run(circuit, repetitions=20)\n",
    "\n",
    "#Print the results\n",
    "print(\"\\nResults:\")\n",
    "print(result)"
   ]
  }
 ],
 "metadata": {
  "kernelspec": {
   "display_name": "Python 3",
   "language": "python",
   "name": "python3"
  },
  "language_info": {
   "codemirror_mode": {
    "name": "ipython",
    "version": 3
   },
   "file_extension": ".py",
   "mimetype": "text/x-python",
   "name": "python",
   "nbconvert_exporter": "python",
   "pygments_lexer": "ipython3",
   "version": "3.7.3"
  }
 },
 "nbformat": 4,
 "nbformat_minor": 2
}
